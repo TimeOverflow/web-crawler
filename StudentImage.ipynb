{
 "cells": [
  {
   "cell_type": "code",
   "execution_count": 1,
   "metadata": {},
   "outputs": [
    {
     "name": "stdout",
     "output_type": "stream",
     "text": [
      "done\n"
     ]
    }
   ],
   "source": [
    "from bs4 import BeautifulSoup\n",
    "import requests\n",
    "import re\n",
    "\n",
    "def get_name(url, id, my_cookies):\n",
    "    try:\n",
    "        r = requests.get(url, params = id, cookies = my_cookies)\n",
    "        r.raise_for_status()\n",
    "        soup = BeautifulSoup(r.text, 'html.parser')\n",
    "        \n",
    "        name_area = soup.find('span', {'class': 'mc-name'})\n",
    "        if name_area:\n",
    "            name_string = name_area.string\n",
    "            name_match = re.match(r'([\\u4e00-\\u9fa5]+)', name_string)\n",
    "            return name_match.group(0)\n",
    "        else:\n",
    "            # 处理只允许好友查看个人信息的情况\n",
    "            new_name_area = soup.find('div', {'class': 'mc-hd'}).find('h2')\n",
    "            name_string = new_name_area.string\n",
    "            name_match = re.search(r'([\\u4e00-\\u9fa5]+)', name_string)\n",
    "            return name_match.group(0)\n",
    "    except:\n",
    "        return name_match.group('fail')\n",
    "\n",
    "def main():\n",
    "    url = 'http://ccs.seu.edu.cn/ccs/euser.profile.do'\n",
    "    id = {'uid': ''}\n",
    "    \"\"\"\n",
    "    cookies每次需要重新更换，cookies查找方法：\n",
    "    在浏览器输入网址：http://ccs.seu.edu.cn/ccs/euser.guest.do?uid=1326062\n",
    "    其中uid可以更换\n",
    "    打开”检查“工具，刷新网页，在Network下面的第一条euser.profile.do的Headers部分\n",
    "    可以看到cookies\n",
    "    \"\"\"\n",
    "    coo = 'JSESSIONID=AEEFCD8D33FBC369A3BE0A015D1EA35D.tomcat2; gr_user_id=01f25979-940d-4a2a-9156-c33aecc65cee; sto-id-20480-sg-ccs.seu.edu.cn=CMIAEBAKHICD; iPlanetDirectoryPro=AQIC5wM2LY4SfczK%2FSlfj%2FHJa3J2jKiF0AnGkwCFuqo5nFc%3D%40AAJTSQACMDI%3D%23; gr_session_id_93fbdae88f63b950=92258400-2850-408d-96d9-52e1c03201b7; gr_session_id_93fbdae88f63b950_92258400-2850-408d-96d9-52e1c03201b7=true'\n",
    "    my_cookies = {\"cookies\": coo}\n",
    "    \n",
    "    init_id = 1325000\n",
    "    for i in range(100):\n",
    "        try:\n",
    "            \n",
    "            img_url = 'http://ccs.seu.edu.cn/ccs/attach/printByResource/45/200x200/'\n",
    "            img_url += str(init_id + i)\n",
    "            img_url += '.jpg?v=371'\n",
    "            \n",
    "            img_src = requests.get(img_url)\n",
    "\n",
    "            id['uid'] = str(init_id + i)\n",
    "            person_name = get_name(url, id, my_cookies)\n",
    "            img_name = r'img/' + str(init_id + i) + person_name + '.jpg'\n",
    "            with open(img_name, 'wb') as img_file:\n",
    "                img_file.write(img_src.content)\n",
    "                \n",
    "        except:\n",
    "            print('fail in ' + i)\n",
    "            continue\n",
    "    \n",
    "    print('done')\n",
    "    \n",
    "main()"
   ]
  },
  {
   "cell_type": "code",
   "execution_count": null,
   "metadata": {},
   "outputs": [],
   "source": []
  }
 ],
 "metadata": {
  "kernelspec": {
   "display_name": "Python 3",
   "language": "python",
   "name": "python3"
  },
  "language_info": {
   "codemirror_mode": {
    "name": "ipython",
    "version": 3
   },
   "file_extension": ".py",
   "mimetype": "text/x-python",
   "name": "python",
   "nbconvert_exporter": "python",
   "pygments_lexer": "ipython3",
   "version": "3.7.3"
  },
  "toc": {
   "base_numbering": 1,
   "nav_menu": {},
   "number_sections": true,
   "sideBar": true,
   "skip_h1_title": false,
   "title_cell": "Table of Contents",
   "title_sidebar": "Contents",
   "toc_cell": false,
   "toc_position": {},
   "toc_section_display": true,
   "toc_window_display": false
  }
 },
 "nbformat": 4,
 "nbformat_minor": 2
}
