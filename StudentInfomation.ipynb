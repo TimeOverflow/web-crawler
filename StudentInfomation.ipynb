{
 "cells": [
  {
   "cell_type": "code",
   "execution_count": 2,
   "metadata": {},
   "outputs": [],
   "source": [
    "import requests\n",
    "from bs4 import BeautifulSoup\n",
    "import re\n",
    "import xlwt"
   ]
  },
  {
   "cell_type": "code",
   "execution_count": 13,
   "metadata": {
    "scrolled": true
   },
   "outputs": [
    {
     "name": "stdout",
     "output_type": "stream",
     "text": [
      "done\n"
     ]
    }
   ],
   "source": [
    "def get_HTML_text(url, stu_info):\n",
    "    try:\n",
    "        html = requests.get(url, params=stu_info, timeout = 300)\n",
    "        html.raise_for_status()\n",
    "        return html.text \n",
    "    except:\n",
    "        return ''\n",
    "    \n",
    "def store_info(html_text, info_list):\n",
    "    try:\n",
    "        soup = BeautifulSoup(html_text, 'html.parser')\n",
    "        raw_data_ls = soup.find_all('td', {\"width\": \"20%\", \"align\": \"left\"})\n",
    "        pattern = re.compile(r'([\\u4e00-\\u9fa5]+):[\\[]?([\\d]*)[\\]]?(.*)')\n",
    "        matches = []\n",
    "        for i in range(2, 5):\n",
    "            matches.append(pattern.match(raw_data_ls[i].string))    \n",
    "        info_list.append([matches[0].group(2), matches[1].group(2), matches[2].group(3)])\n",
    "        \n",
    "    except:\n",
    "        pass\n",
    "\n",
    "def write_to_Excel(info_list):\n",
    "    f = xlwt.Workbook(encoding='utf-8')\n",
    "    sheet1 = f.add_sheet('学生', cell_overwrite_ok=True)\n",
    "    row0 = [\"学号\", \"一卡通号\", \"姓名\"]\n",
    "    for i in range(0, len(row0)):\n",
    "        sheet1.write(0,i,row0[i])\n",
    "    \n",
    "    for i in range(len(info_list)):\n",
    "        for j in range(3):\n",
    "            sheet1.write(i + 1, j, info_list[i][j])\n",
    "    \n",
    "    f.save('student_infomation.xls')\n",
    "            \n",
    "\n",
    "def print_student_info(info_list):\n",
    "    tplt = \"{:8}\\t{:16}\\t{:16}\"\n",
    "    print(tplt.format(\"学号\", \"一卡通号\", \"姓名\"))\n",
    "    for item in info_list:\n",
    "        print( tplt.format(item[0], item[1], item[2]) )\n",
    "        \n",
    "def main():\n",
    "    url = 'http://xk.urp.seu.edu.cn/jw_service/service/stuCurriculum.action'\n",
    "    stu_info = {\"returnStr\": \"\", \n",
    "                \"queryStudentId\": '', \n",
    "                \"queryAcademicYear\": \"18-19-3\"}\n",
    "    info_list = []\n",
    "    init_id = 22015101\n",
    "    for i in range(400):\n",
    "        try:\n",
    "            stu_info['queryStudentId'] = str(init_id + i)\n",
    "            html_text = get_HTML_text(url, stu_info)\n",
    "            store_info(html_text, info_list)\n",
    "        except:\n",
    "            continue\n",
    "#     print_student_info(info_list)\n",
    "    write_to_Excel(info_list)\n",
    "    print('done')\n",
    "    \n",
    "main()"
   ]
  },
  {
   "cell_type": "code",
   "execution_count": null,
   "metadata": {},
   "outputs": [],
   "source": []
  },
  {
   "cell_type": "code",
   "execution_count": null,
   "metadata": {},
   "outputs": [],
   "source": []
  }
 ],
 "metadata": {
  "kernelspec": {
   "display_name": "Python 3",
   "language": "python",
   "name": "python3"
  },
  "language_info": {
   "codemirror_mode": {
    "name": "ipython",
    "version": 3
   },
   "file_extension": ".py",
   "mimetype": "text/x-python",
   "name": "python",
   "nbconvert_exporter": "python",
   "pygments_lexer": "ipython3",
   "version": "3.7.3"
  },
  "toc": {
   "base_numbering": 1,
   "nav_menu": {},
   "number_sections": true,
   "sideBar": true,
   "skip_h1_title": false,
   "title_cell": "Table of Contents",
   "title_sidebar": "Contents",
   "toc_cell": false,
   "toc_position": {},
   "toc_section_display": true,
   "toc_window_display": false
  }
 },
 "nbformat": 4,
 "nbformat_minor": 2
}
